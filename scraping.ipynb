{
 "cells": [
  {
   "cell_type": "code",
   "execution_count": 4,
   "metadata": {},
   "outputs": [],
   "source": [
    "import os\n",
    "import glob\n",
    "import shutil\n",
    "from dotenv import load_dotenv\n",
    "import datetime\n",
    "import time\n",
    "\n",
    "import pandas as pd\n",
    "import nltk\n",
    "import csv\n",
    "import requests\n",
    "import re\n",
    "from collections import defaultdict\n",
    "\n",
    "from scrape_functions import printlog, get_address, format_phone, count_list, count_sentences, generate_top_words\n",
    "\n",
    "load_dotenv()\n",
    "scraper_path = os.getenv(\"SCRAPER_PATH\")\n",
    "directory = os.getenv(\"DIRECTORY\")\n",
    "data_folder = os.getenv(\"DATA_FOLDER\")\n",
    "temp_folder = os.getenv(\"TEMP_FOLDER\")\n",
    "log_folder = os.getenv(\"LOG_FOLDER\")\n",
    "ref_folder = os.getenv(\"REF_FOLDER\")\n",
    "backup_folder = os.getenv(\"BACKUP_FOLDER\")\n",
    "key_path = os.getenv(\"KEY_PATH\")\n",
    "scraper_folder = os.getenv(\"SCRAPER_FOLDER\")\n",
    "\n",
    "startpage = 1  # should not change or else the scraper will not work by deleting new rows\n",
    "activepage = 1\n",
    "soldpage = 1\n",
    "expiredpage = 1\n",
    "\n",
    "printlog(\"saa\")\n",
    "\n"
   ]
  },
  {
   "cell_type": "code",
   "execution_count": null,
   "metadata": {},
   "outputs": [],
   "source": [
    "# delete previous search*.csv files in scraper folder\n",
    "csv_files = glob.glob(\"temp/**/search*.csv\", recursive=True)\n",
    "print('Finding old search*.csv files:')\n",
    "print(\"\\n\".join(item for item in csv_files))\n",
    "print('Deleting old search*.csv files...')\n",
    "\n",
    "for file in csv_files:\n",
    "    os.remove(file)"
   ]
  },
  {
   "cell_type": "code",
   "execution_count": null,
   "metadata": {},
   "outputs": [],
   "source": [
    "%cd \"$scraper_path\"\n",
    "\n",
    "print('Search active pages from 1 to ' + str(activepage) + '...')\n",
    "!poetry run python src/cli.py search active --start \"$startpage\" --end \"$activepage\"\n",
    "\n",
    "print()\n",
    "print('Search sold pages from 1 to ' + str(soldpage) + '...')\n",
    "!poetry run python src/cli.py search sold --start \"$startpage\" --end \"$soldpage\"\n",
    "\n",
    "print()\n",
    "print('Search expired pages from 1 to ' + str(expiredpage) + '...')\n",
    "!poetry run python src/cli.py search expired --start \"$startpage\" --end \"$expiredpage\"\n",
    "\n",
    "print()\n",
    "print('All scraping done. Exiting...')"
   ]
  }
 ],
 "metadata": {
  "kernelspec": {
   "display_name": "zealty-scraper-byPabegW-py3.10",
   "language": "python",
   "name": "python3"
  },
  "language_info": {
   "codemirror_mode": {
    "name": "ipython",
    "version": 3
   },
   "file_extension": ".py",
   "mimetype": "text/x-python",
   "name": "python",
   "nbconvert_exporter": "python",
   "pygments_lexer": "ipython3",
   "version": "3.10.6"
  },
  "orig_nbformat": 4,
  "vscode": {
   "interpreter": {
    "hash": "9c0c98809762a13138d8e8bebcf6b368498db842404778695a18eb3f09538283"
   }
  }
 },
 "nbformat": 4,
 "nbformat_minor": 2
}
